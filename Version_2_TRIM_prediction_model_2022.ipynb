{
  "nbformat": 4,
  "nbformat_minor": 0,
  "metadata": {
    "colab": {
      "name": "Version 2 -TRIM prediction model 2022.ipynb",
      "provenance": [],
      "collapsed_sections": [],
      "authorship_tag": "ABX9TyOzulNz8Id31+68NF0BFu3c",
      "include_colab_link": true
    },
    "kernelspec": {
      "name": "python3",
      "display_name": "Python 3"
    },
    "language_info": {
      "name": "python"
    }
  },
  "cells": [
    {
      "cell_type": "markdown",
      "metadata": {
        "id": "view-in-github",
        "colab_type": "text"
      },
      "source": [
        "<a href=\"https://colab.research.google.com/github/sharibhumayun/New-Prediction-Trim/blob/main/Version_2_TRIM_prediction_model_2022.ipynb\" target=\"_parent\"><img src=\"https://colab.research.google.com/assets/colab-badge.svg\" alt=\"Open In Colab\"/></a>"
      ]
    },
    {
      "cell_type": "code",
      "execution_count": 11,
      "metadata": {
        "id": "V9bNrmK8L0NJ"
      },
      "outputs": [],
      "source": [
        "import pandas as pd\n",
        "import numpy as np\n",
        "import matplotlib.pyplot as plt\n",
        "import seaborn as sns"
      ]
    },
    {
      "cell_type": "code",
      "source": [
        "df = pd.read_csv('https://raw.githubusercontent.com/sharibhumayun/predict-trim/main/CSAT%20TRIM%20impact%20v2.csv')\n",
        "df.head()"
      ],
      "metadata": {
        "colab": {
          "base_uri": "https://localhost:8080/",
          "height": 206
        },
        "id": "5UOzTCscMBlL",
        "outputId": "c95f32b5-fe16-4e83-99c4-d0eb2e8174eb"
      },
      "execution_count": 12,
      "outputs": [
        {
          "output_type": "execute_result",
          "data": {
            "text/plain": [
              "     Months Service Provider  Communication   Proposition  Sales_Experience  \\\n",
              "0    Feb'18           Mobily           39.23        36.32             47.01   \n",
              "1    Mar'18           Mobily           37.07        37.89             44.11   \n",
              "2  April'18           Mobily           37.14        40.89             47.15   \n",
              "3    May'18           Mobily           40.72        45.33             49.62   \n",
              "4   June'18           Mobily           40.32        45.33             53.17   \n",
              "\n",
              "   Opt_inout   Network  Customer_Support  Billing_Payment  TRIM_Index  \n",
              "0       46.24    38.34             41.31            58.27       76.00  \n",
              "1       45.65    37.31             44.09            60.48       75.00  \n",
              "2       48.89    41.38             44.75            59.48       76.46  \n",
              "3       49.81    44.72             47.39            57.32       77.98  \n",
              "4       48.82    44.97             48.05            57.47       78.24  "
            ],
            "text/html": [
              "\n",
              "  <div id=\"df-3fc1d85d-75cc-4735-a69c-125aaffa24dd\">\n",
              "    <div class=\"colab-df-container\">\n",
              "      <div>\n",
              "<style scoped>\n",
              "    .dataframe tbody tr th:only-of-type {\n",
              "        vertical-align: middle;\n",
              "    }\n",
              "\n",
              "    .dataframe tbody tr th {\n",
              "        vertical-align: top;\n",
              "    }\n",
              "\n",
              "    .dataframe thead th {\n",
              "        text-align: right;\n",
              "    }\n",
              "</style>\n",
              "<table border=\"1\" class=\"dataframe\">\n",
              "  <thead>\n",
              "    <tr style=\"text-align: right;\">\n",
              "      <th></th>\n",
              "      <th>Months</th>\n",
              "      <th>Service Provider</th>\n",
              "      <th>Communication</th>\n",
              "      <th>Proposition</th>\n",
              "      <th>Sales_Experience</th>\n",
              "      <th>Opt_inout</th>\n",
              "      <th>Network</th>\n",
              "      <th>Customer_Support</th>\n",
              "      <th>Billing_Payment</th>\n",
              "      <th>TRIM_Index</th>\n",
              "    </tr>\n",
              "  </thead>\n",
              "  <tbody>\n",
              "    <tr>\n",
              "      <th>0</th>\n",
              "      <td>Feb'18</td>\n",
              "      <td>Mobily</td>\n",
              "      <td>39.23</td>\n",
              "      <td>36.32</td>\n",
              "      <td>47.01</td>\n",
              "      <td>46.24</td>\n",
              "      <td>38.34</td>\n",
              "      <td>41.31</td>\n",
              "      <td>58.27</td>\n",
              "      <td>76.00</td>\n",
              "    </tr>\n",
              "    <tr>\n",
              "      <th>1</th>\n",
              "      <td>Mar'18</td>\n",
              "      <td>Mobily</td>\n",
              "      <td>37.07</td>\n",
              "      <td>37.89</td>\n",
              "      <td>44.11</td>\n",
              "      <td>45.65</td>\n",
              "      <td>37.31</td>\n",
              "      <td>44.09</td>\n",
              "      <td>60.48</td>\n",
              "      <td>75.00</td>\n",
              "    </tr>\n",
              "    <tr>\n",
              "      <th>2</th>\n",
              "      <td>April'18</td>\n",
              "      <td>Mobily</td>\n",
              "      <td>37.14</td>\n",
              "      <td>40.89</td>\n",
              "      <td>47.15</td>\n",
              "      <td>48.89</td>\n",
              "      <td>41.38</td>\n",
              "      <td>44.75</td>\n",
              "      <td>59.48</td>\n",
              "      <td>76.46</td>\n",
              "    </tr>\n",
              "    <tr>\n",
              "      <th>3</th>\n",
              "      <td>May'18</td>\n",
              "      <td>Mobily</td>\n",
              "      <td>40.72</td>\n",
              "      <td>45.33</td>\n",
              "      <td>49.62</td>\n",
              "      <td>49.81</td>\n",
              "      <td>44.72</td>\n",
              "      <td>47.39</td>\n",
              "      <td>57.32</td>\n",
              "      <td>77.98</td>\n",
              "    </tr>\n",
              "    <tr>\n",
              "      <th>4</th>\n",
              "      <td>June'18</td>\n",
              "      <td>Mobily</td>\n",
              "      <td>40.32</td>\n",
              "      <td>45.33</td>\n",
              "      <td>53.17</td>\n",
              "      <td>48.82</td>\n",
              "      <td>44.97</td>\n",
              "      <td>48.05</td>\n",
              "      <td>57.47</td>\n",
              "      <td>78.24</td>\n",
              "    </tr>\n",
              "  </tbody>\n",
              "</table>\n",
              "</div>\n",
              "      <button class=\"colab-df-convert\" onclick=\"convertToInteractive('df-3fc1d85d-75cc-4735-a69c-125aaffa24dd')\"\n",
              "              title=\"Convert this dataframe to an interactive table.\"\n",
              "              style=\"display:none;\">\n",
              "        \n",
              "  <svg xmlns=\"http://www.w3.org/2000/svg\" height=\"24px\"viewBox=\"0 0 24 24\"\n",
              "       width=\"24px\">\n",
              "    <path d=\"M0 0h24v24H0V0z\" fill=\"none\"/>\n",
              "    <path d=\"M18.56 5.44l.94 2.06.94-2.06 2.06-.94-2.06-.94-.94-2.06-.94 2.06-2.06.94zm-11 1L8.5 8.5l.94-2.06 2.06-.94-2.06-.94L8.5 2.5l-.94 2.06-2.06.94zm10 10l.94 2.06.94-2.06 2.06-.94-2.06-.94-.94-2.06-.94 2.06-2.06.94z\"/><path d=\"M17.41 7.96l-1.37-1.37c-.4-.4-.92-.59-1.43-.59-.52 0-1.04.2-1.43.59L10.3 9.45l-7.72 7.72c-.78.78-.78 2.05 0 2.83L4 21.41c.39.39.9.59 1.41.59.51 0 1.02-.2 1.41-.59l7.78-7.78 2.81-2.81c.8-.78.8-2.07 0-2.86zM5.41 20L4 18.59l7.72-7.72 1.47 1.35L5.41 20z\"/>\n",
              "  </svg>\n",
              "      </button>\n",
              "      \n",
              "  <style>\n",
              "    .colab-df-container {\n",
              "      display:flex;\n",
              "      flex-wrap:wrap;\n",
              "      gap: 12px;\n",
              "    }\n",
              "\n",
              "    .colab-df-convert {\n",
              "      background-color: #E8F0FE;\n",
              "      border: none;\n",
              "      border-radius: 50%;\n",
              "      cursor: pointer;\n",
              "      display: none;\n",
              "      fill: #1967D2;\n",
              "      height: 32px;\n",
              "      padding: 0 0 0 0;\n",
              "      width: 32px;\n",
              "    }\n",
              "\n",
              "    .colab-df-convert:hover {\n",
              "      background-color: #E2EBFA;\n",
              "      box-shadow: 0px 1px 2px rgba(60, 64, 67, 0.3), 0px 1px 3px 1px rgba(60, 64, 67, 0.15);\n",
              "      fill: #174EA6;\n",
              "    }\n",
              "\n",
              "    [theme=dark] .colab-df-convert {\n",
              "      background-color: #3B4455;\n",
              "      fill: #D2E3FC;\n",
              "    }\n",
              "\n",
              "    [theme=dark] .colab-df-convert:hover {\n",
              "      background-color: #434B5C;\n",
              "      box-shadow: 0px 1px 3px 1px rgba(0, 0, 0, 0.15);\n",
              "      filter: drop-shadow(0px 1px 2px rgba(0, 0, 0, 0.3));\n",
              "      fill: #FFFFFF;\n",
              "    }\n",
              "  </style>\n",
              "\n",
              "      <script>\n",
              "        const buttonEl =\n",
              "          document.querySelector('#df-3fc1d85d-75cc-4735-a69c-125aaffa24dd button.colab-df-convert');\n",
              "        buttonEl.style.display =\n",
              "          google.colab.kernel.accessAllowed ? 'block' : 'none';\n",
              "\n",
              "        async function convertToInteractive(key) {\n",
              "          const element = document.querySelector('#df-3fc1d85d-75cc-4735-a69c-125aaffa24dd');\n",
              "          const dataTable =\n",
              "            await google.colab.kernel.invokeFunction('convertToInteractive',\n",
              "                                                     [key], {});\n",
              "          if (!dataTable) return;\n",
              "\n",
              "          const docLinkHtml = 'Like what you see? Visit the ' +\n",
              "            '<a target=\"_blank\" href=https://colab.research.google.com/notebooks/data_table.ipynb>data table notebook</a>'\n",
              "            + ' to learn more about interactive tables.';\n",
              "          element.innerHTML = '';\n",
              "          dataTable['output_type'] = 'display_data';\n",
              "          await google.colab.output.renderOutput(dataTable, element);\n",
              "          const docLink = document.createElement('div');\n",
              "          docLink.innerHTML = docLinkHtml;\n",
              "          element.appendChild(docLink);\n",
              "        }\n",
              "      </script>\n",
              "    </div>\n",
              "  </div>\n",
              "  "
            ]
          },
          "metadata": {},
          "execution_count": 12
        }
      ]
    },
    {
      "cell_type": "code",
      "source": [
        "df.drop(['Months'], axis =1, inplace = True)"
      ],
      "metadata": {
        "id": "ISvbsItNMdC-"
      },
      "execution_count": 13,
      "outputs": []
    },
    {
      "cell_type": "code",
      "source": [
        "df.shape"
      ],
      "metadata": {
        "colab": {
          "base_uri": "https://localhost:8080/"
        },
        "id": "st6Bd4DOMnvB",
        "outputId": "bcaa7fbd-fdd2-407c-ddc4-cdeb9ada537f"
      },
      "execution_count": 14,
      "outputs": [
        {
          "output_type": "execute_result",
          "data": {
            "text/plain": [
              "(150, 9)"
            ]
          },
          "metadata": {},
          "execution_count": 14
        }
      ]
    },
    {
      "cell_type": "code",
      "source": [
        "df.dtypes"
      ],
      "metadata": {
        "colab": {
          "base_uri": "https://localhost:8080/"
        },
        "id": "DCFX-cIC57Ih",
        "outputId": "d94820f4-9bec-4263-d9ab-2afcb05181d8"
      },
      "execution_count": 15,
      "outputs": [
        {
          "output_type": "execute_result",
          "data": {
            "text/plain": [
              "Service Provider     object\n",
              "Communication       float64\n",
              "Proposition         float64\n",
              "Sales_Experience    float64\n",
              "Opt_inout           float64\n",
              "Network             float64\n",
              "Customer_Support    float64\n",
              "Billing_Payment     float64\n",
              "TRIM_Index          float64\n",
              "dtype: object"
            ]
          },
          "metadata": {},
          "execution_count": 15
        }
      ]
    },
    {
      "cell_type": "code",
      "source": [
        "df= pd.get_dummies(df, columns =['Service Provider'])\n",
        "df.head()"
      ],
      "metadata": {
        "colab": {
          "base_uri": "https://localhost:8080/",
          "height": 287
        },
        "id": "Vwpw9pLm55AQ",
        "outputId": "43f8f87d-eaa0-40d1-8043-46934e94f0e2"
      },
      "execution_count": 20,
      "outputs": [
        {
          "output_type": "execute_result",
          "data": {
            "text/plain": [
              "   Communication   Proposition  Sales_Experience  Opt_inout   Network  \\\n",
              "0           39.23        36.32             47.01       46.24    38.34   \n",
              "1           37.07        37.89             44.11       45.65    37.31   \n",
              "2           37.14        40.89             47.15       48.89    41.38   \n",
              "3           40.72        45.33             49.62       49.81    44.72   \n",
              "4           40.32        45.33             53.17       48.82    44.97   \n",
              "\n",
              "   Customer_Support  Billing_Payment  TRIM_Index  Service Provider_Mobily  \\\n",
              "0             41.31            58.27       76.00                        1   \n",
              "1             44.09            60.48       75.00                        1   \n",
              "2             44.75            59.48       76.46                        1   \n",
              "3             47.39            57.32       77.98                        1   \n",
              "4             48.05            57.47       78.24                        1   \n",
              "\n",
              "   Service Provider_STC  Service Provider_Zain  \n",
              "0                     0                      0  \n",
              "1                     0                      0  \n",
              "2                     0                      0  \n",
              "3                     0                      0  \n",
              "4                     0                      0  "
            ],
            "text/html": [
              "\n",
              "  <div id=\"df-8b3099d7-12b5-46cf-bdf1-ad845dc08315\">\n",
              "    <div class=\"colab-df-container\">\n",
              "      <div>\n",
              "<style scoped>\n",
              "    .dataframe tbody tr th:only-of-type {\n",
              "        vertical-align: middle;\n",
              "    }\n",
              "\n",
              "    .dataframe tbody tr th {\n",
              "        vertical-align: top;\n",
              "    }\n",
              "\n",
              "    .dataframe thead th {\n",
              "        text-align: right;\n",
              "    }\n",
              "</style>\n",
              "<table border=\"1\" class=\"dataframe\">\n",
              "  <thead>\n",
              "    <tr style=\"text-align: right;\">\n",
              "      <th></th>\n",
              "      <th>Communication</th>\n",
              "      <th>Proposition</th>\n",
              "      <th>Sales_Experience</th>\n",
              "      <th>Opt_inout</th>\n",
              "      <th>Network</th>\n",
              "      <th>Customer_Support</th>\n",
              "      <th>Billing_Payment</th>\n",
              "      <th>TRIM_Index</th>\n",
              "      <th>Service Provider_Mobily</th>\n",
              "      <th>Service Provider_STC</th>\n",
              "      <th>Service Provider_Zain</th>\n",
              "    </tr>\n",
              "  </thead>\n",
              "  <tbody>\n",
              "    <tr>\n",
              "      <th>0</th>\n",
              "      <td>39.23</td>\n",
              "      <td>36.32</td>\n",
              "      <td>47.01</td>\n",
              "      <td>46.24</td>\n",
              "      <td>38.34</td>\n",
              "      <td>41.31</td>\n",
              "      <td>58.27</td>\n",
              "      <td>76.00</td>\n",
              "      <td>1</td>\n",
              "      <td>0</td>\n",
              "      <td>0</td>\n",
              "    </tr>\n",
              "    <tr>\n",
              "      <th>1</th>\n",
              "      <td>37.07</td>\n",
              "      <td>37.89</td>\n",
              "      <td>44.11</td>\n",
              "      <td>45.65</td>\n",
              "      <td>37.31</td>\n",
              "      <td>44.09</td>\n",
              "      <td>60.48</td>\n",
              "      <td>75.00</td>\n",
              "      <td>1</td>\n",
              "      <td>0</td>\n",
              "      <td>0</td>\n",
              "    </tr>\n",
              "    <tr>\n",
              "      <th>2</th>\n",
              "      <td>37.14</td>\n",
              "      <td>40.89</td>\n",
              "      <td>47.15</td>\n",
              "      <td>48.89</td>\n",
              "      <td>41.38</td>\n",
              "      <td>44.75</td>\n",
              "      <td>59.48</td>\n",
              "      <td>76.46</td>\n",
              "      <td>1</td>\n",
              "      <td>0</td>\n",
              "      <td>0</td>\n",
              "    </tr>\n",
              "    <tr>\n",
              "      <th>3</th>\n",
              "      <td>40.72</td>\n",
              "      <td>45.33</td>\n",
              "      <td>49.62</td>\n",
              "      <td>49.81</td>\n",
              "      <td>44.72</td>\n",
              "      <td>47.39</td>\n",
              "      <td>57.32</td>\n",
              "      <td>77.98</td>\n",
              "      <td>1</td>\n",
              "      <td>0</td>\n",
              "      <td>0</td>\n",
              "    </tr>\n",
              "    <tr>\n",
              "      <th>4</th>\n",
              "      <td>40.32</td>\n",
              "      <td>45.33</td>\n",
              "      <td>53.17</td>\n",
              "      <td>48.82</td>\n",
              "      <td>44.97</td>\n",
              "      <td>48.05</td>\n",
              "      <td>57.47</td>\n",
              "      <td>78.24</td>\n",
              "      <td>1</td>\n",
              "      <td>0</td>\n",
              "      <td>0</td>\n",
              "    </tr>\n",
              "  </tbody>\n",
              "</table>\n",
              "</div>\n",
              "      <button class=\"colab-df-convert\" onclick=\"convertToInteractive('df-8b3099d7-12b5-46cf-bdf1-ad845dc08315')\"\n",
              "              title=\"Convert this dataframe to an interactive table.\"\n",
              "              style=\"display:none;\">\n",
              "        \n",
              "  <svg xmlns=\"http://www.w3.org/2000/svg\" height=\"24px\"viewBox=\"0 0 24 24\"\n",
              "       width=\"24px\">\n",
              "    <path d=\"M0 0h24v24H0V0z\" fill=\"none\"/>\n",
              "    <path d=\"M18.56 5.44l.94 2.06.94-2.06 2.06-.94-2.06-.94-.94-2.06-.94 2.06-2.06.94zm-11 1L8.5 8.5l.94-2.06 2.06-.94-2.06-.94L8.5 2.5l-.94 2.06-2.06.94zm10 10l.94 2.06.94-2.06 2.06-.94-2.06-.94-.94-2.06-.94 2.06-2.06.94z\"/><path d=\"M17.41 7.96l-1.37-1.37c-.4-.4-.92-.59-1.43-.59-.52 0-1.04.2-1.43.59L10.3 9.45l-7.72 7.72c-.78.78-.78 2.05 0 2.83L4 21.41c.39.39.9.59 1.41.59.51 0 1.02-.2 1.41-.59l7.78-7.78 2.81-2.81c.8-.78.8-2.07 0-2.86zM5.41 20L4 18.59l7.72-7.72 1.47 1.35L5.41 20z\"/>\n",
              "  </svg>\n",
              "      </button>\n",
              "      \n",
              "  <style>\n",
              "    .colab-df-container {\n",
              "      display:flex;\n",
              "      flex-wrap:wrap;\n",
              "      gap: 12px;\n",
              "    }\n",
              "\n",
              "    .colab-df-convert {\n",
              "      background-color: #E8F0FE;\n",
              "      border: none;\n",
              "      border-radius: 50%;\n",
              "      cursor: pointer;\n",
              "      display: none;\n",
              "      fill: #1967D2;\n",
              "      height: 32px;\n",
              "      padding: 0 0 0 0;\n",
              "      width: 32px;\n",
              "    }\n",
              "\n",
              "    .colab-df-convert:hover {\n",
              "      background-color: #E2EBFA;\n",
              "      box-shadow: 0px 1px 2px rgba(60, 64, 67, 0.3), 0px 1px 3px 1px rgba(60, 64, 67, 0.15);\n",
              "      fill: #174EA6;\n",
              "    }\n",
              "\n",
              "    [theme=dark] .colab-df-convert {\n",
              "      background-color: #3B4455;\n",
              "      fill: #D2E3FC;\n",
              "    }\n",
              "\n",
              "    [theme=dark] .colab-df-convert:hover {\n",
              "      background-color: #434B5C;\n",
              "      box-shadow: 0px 1px 3px 1px rgba(0, 0, 0, 0.15);\n",
              "      filter: drop-shadow(0px 1px 2px rgba(0, 0, 0, 0.3));\n",
              "      fill: #FFFFFF;\n",
              "    }\n",
              "  </style>\n",
              "\n",
              "      <script>\n",
              "        const buttonEl =\n",
              "          document.querySelector('#df-8b3099d7-12b5-46cf-bdf1-ad845dc08315 button.colab-df-convert');\n",
              "        buttonEl.style.display =\n",
              "          google.colab.kernel.accessAllowed ? 'block' : 'none';\n",
              "\n",
              "        async function convertToInteractive(key) {\n",
              "          const element = document.querySelector('#df-8b3099d7-12b5-46cf-bdf1-ad845dc08315');\n",
              "          const dataTable =\n",
              "            await google.colab.kernel.invokeFunction('convertToInteractive',\n",
              "                                                     [key], {});\n",
              "          if (!dataTable) return;\n",
              "\n",
              "          const docLinkHtml = 'Like what you see? Visit the ' +\n",
              "            '<a target=\"_blank\" href=https://colab.research.google.com/notebooks/data_table.ipynb>data table notebook</a>'\n",
              "            + ' to learn more about interactive tables.';\n",
              "          element.innerHTML = '';\n",
              "          dataTable['output_type'] = 'display_data';\n",
              "          await google.colab.output.renderOutput(dataTable, element);\n",
              "          const docLink = document.createElement('div');\n",
              "          docLink.innerHTML = docLinkHtml;\n",
              "          element.appendChild(docLink);\n",
              "        }\n",
              "      </script>\n",
              "    </div>\n",
              "  </div>\n",
              "  "
            ]
          },
          "metadata": {},
          "execution_count": 20
        }
      ]
    },
    {
      "cell_type": "code",
      "source": [
        "x= df.drop(['TRIM_Index'],axis = 1)\n",
        "y = df['TRIM_Index']"
      ],
      "metadata": {
        "id": "36YZRK9AMtKw"
      },
      "execution_count": 21,
      "outputs": []
    },
    {
      "cell_type": "code",
      "source": [
        "plt.figure (figsize = (12,10))\n",
        "sns.heatmap(x.corr(),annot =True)"
      ],
      "metadata": {
        "colab": {
          "base_uri": "https://localhost:8080/",
          "height": 721
        },
        "id": "FGZ0dhmrM_nW",
        "outputId": "80ec6318-9344-47f9-d4a1-2d7a02ef7ed7"
      },
      "execution_count": 22,
      "outputs": [
        {
          "output_type": "execute_result",
          "data": {
            "text/plain": [
              "<matplotlib.axes._subplots.AxesSubplot at 0x7f9e166d4550>"
            ]
          },
          "metadata": {},
          "execution_count": 22
        },
        {
          "output_type": "display_data",
          "data": {
            "text/plain": [
              "<Figure size 864x720 with 2 Axes>"
            ],
            "image/png": "[encoded data removed]"
          },
          "metadata": {
            "needs_background": "light"
          }
        }
      ]
    },
    {
      "cell_type": "code",
      "source": [
        "import sklearn\n",
        "from sklearn.model_selection import train_test_split\n",
        "x_train,x_test,y_train,y_test = train_test_split(x,y,test_size = 0.2, random_state = 42)\n"
      ],
      "metadata": {
        "id": "DTvy-ciZNPLp"
      },
      "execution_count": 23,
      "outputs": []
    },
    {
      "cell_type": "code",
      "source": [
        "from sklearn.linear_model import LinearRegression\n",
        "lr = LinearRegression()\n",
        "lr.fit(x_train,y_train)"
      ],
      "metadata": {
        "colab": {
          "base_uri": "https://localhost:8080/"
        },
        "id": "9DVlQzruNyxW",
        "outputId": "4ec3de5e-8729-49ce-c812-29eab953ed14"
      },
      "execution_count": 24,
      "outputs": [
        {
          "output_type": "execute_result",
          "data": {
            "text/plain": [
              "LinearRegression()"
            ]
          },
          "metadata": {},
          "execution_count": 24
        }
      ]
    },
    {
      "cell_type": "code",
      "source": [
        "lr.coef_"
      ],
      "metadata": {
        "colab": {
          "base_uri": "https://localhost:8080/"
        },
        "id": "v2rI2XICOABC",
        "outputId": "f88879ba-da01-43a0-c6dd-50926ed261dc"
      },
      "execution_count": 25,
      "outputs": [
        {
          "output_type": "execute_result",
          "data": {
            "text/plain": [
              "array([ 0.02248086,  0.3782013 ,  0.05887312,  0.25105475,  0.39968313,\n",
              "        0.05156086,  0.01595869,  0.60948808,  0.04794956, -0.65743764])"
            ]
          },
          "metadata": {},
          "execution_count": 25
        }
      ]
    },
    {
      "cell_type": "code",
      "source": [
        "lr.intercept_"
      ],
      "metadata": {
        "colab": {
          "base_uri": "https://localhost:8080/"
        },
        "id": "517nHVfkOjKS",
        "outputId": "8ac98551-11a2-4549-861d-ade2fde738f4"
      },
      "execution_count": 26,
      "outputs": [
        {
          "output_type": "execute_result",
          "data": {
            "text/plain": [
              "24.516646731754292"
            ]
          },
          "metadata": {},
          "execution_count": 26
        }
      ]
    },
    {
      "cell_type": "code",
      "source": [
        "y_pred = lr.predict(x_test)\n",
        "y_pred"
      ],
      "metadata": {
        "colab": {
          "base_uri": "https://localhost:8080/"
        },
        "id": "mSPw3dUDOsSW",
        "outputId": "c6c9bd69-bc0c-4a94-fdeb-2feb85ae7866"
      },
      "execution_count": 27,
      "outputs": [
        {
          "output_type": "execute_result",
          "data": {
            "text/plain": [
              "array([88.62730329, 86.58809299, 92.44503813, 93.80234266, 92.3236379 ,\n",
              "       90.25257534, 84.68553605, 91.29699162, 86.17996973, 94.07361195,\n",
              "       95.44092536, 85.22524853, 91.38365651, 82.85752342, 86.32974103,\n",
              "       83.49672055, 91.15456371, 85.69704596, 83.07629897, 96.09587151,\n",
              "       91.25435661, 98.51231641, 90.36540184, 99.23241428, 97.27874241,\n",
              "       88.75712341, 95.68600106, 90.68111461, 94.76862826, 90.58140849])"
            ]
          },
          "metadata": {},
          "execution_count": 27
        }
      ]
    },
    {
      "cell_type": "code",
      "source": [
        "lr.score(x_test,y_test)"
      ],
      "metadata": {
        "colab": {
          "base_uri": "https://localhost:8080/"
        },
        "id": "ie_Pq6LuO2LO",
        "outputId": "6cfb43b3-800f-4a8c-eee3-0348993117b6"
      },
      "execution_count": 28,
      "outputs": [
        {
          "output_type": "execute_result",
          "data": {
            "text/plain": [
              "0.9846205331788059"
            ]
          },
          "metadata": {},
          "execution_count": 28
        }
      ]
    },
    {
      "cell_type": "code",
      "source": [
        "from sklearn.metrics import r2_score\n",
        "r2_lr = r2_score(y_test, y_pred)\n",
        "r2_lr"
      ],
      "metadata": {
        "colab": {
          "base_uri": "https://localhost:8080/"
        },
        "id": "f1VAG18ltOn0",
        "outputId": "2a5ffd15-1090-44a7-a052-d721a75a0d4f"
      },
      "execution_count": 29,
      "outputs": [
        {
          "output_type": "execute_result",
          "data": {
            "text/plain": [
              "0.9846205331788059"
            ]
          },
          "metadata": {},
          "execution_count": 29
        }
      ]
    },
    {
      "cell_type": "code",
      "source": [
        "plt.figure(figsize =(12,10))\n",
        "x_ax = range(len(y_test))\n",
        "plt.plot(x_ax,y_test,label = 'Original')\n",
        "plt.plot(x_ax,y_pred,label = 'Predicted')\n",
        "plt.title('Actual TRIM Index vs. Predicted TRIM Index')\n",
        "plt.legend()\n",
        "plt.show()"
      ],
      "metadata": {
        "colab": {
          "base_uri": "https://localhost:8080/",
          "height": 607
        },
        "id": "RSdQmG7RO_g5",
        "outputId": "a7efdfe6-fc8a-4e3d-8435-4b9eb83aa14b"
      },
      "execution_count": 30,
      "outputs": [
        {
          "output_type": "display_data",
          "data": {
            "text/plain": [
              "<Figure size 864x720 with 1 Axes>"
            ],
            "image/png": "[encoded data removed]"
          },
          "metadata": {
            "needs_background": "light"
          }
        }
      ]
    },
    {
      "cell_type": "code",
      "source": [
        "df.columns"
      ],
      "metadata": {
        "colab": {
          "base_uri": "https://localhost:8080/"
        },
        "id": "QTMHe_Ke8hyR",
        "outputId": "714eb6fb-8bdb-403e-801e-cdecb231fa47"
      },
      "execution_count": 32,
      "outputs": [
        {
          "output_type": "execute_result",
          "data": {
            "text/plain": [
              "Index(['Communication ', 'Proposition', 'Sales_Experience', 'Opt_inout ',\n",
              "       'Network', 'Customer_Support', 'Billing_Payment', 'TRIM_Index',\n",
              "       'Service Provider_Mobily', 'Service Provider_STC',\n",
              "       'Service Provider_Zain'],\n",
              "      dtype='object')"
            ]
          },
          "metadata": {},
          "execution_count": 32
        }
      ]
    },
    {
      "cell_type": "code",
      "source": [
        "Input_values =[50,56,65,57,58,70,59,1,0,0]\n",
        "Input_values = np.asarray(Input_values)\n",
        "Input_values = Input_values.reshape(1,-1)\n",
        "y_pred1 = lr.predict(Input_values)\n",
        "y_pred1"
      ],
      "metadata": {
        "colab": {
          "base_uri": "https://localhost:8080/"
        },
        "id": "lNgvhg_oPyxb",
        "outputId": "8439aa62-4e4d-4938-bbde-c685028c03cf"
      },
      "execution_count": 33,
      "outputs": [
        {
          "output_type": "stream",
          "name": "stderr",
          "text": [
            "/usr/local/lib/python3.7/dist-packages/sklearn/base.py:451: UserWarning: X does not have valid feature names, but LinearRegression was fitted with feature names\n",
            "  \"X does not have valid feature names, but\"\n"
          ]
        },
        {
          "output_type": "execute_result",
          "data": {
            "text/plain": [
              "array([93.2987688])"
            ]
          },
          "metadata": {},
          "execution_count": 33
        }
      ]
    },
    {
      "cell_type": "code",
      "source": [
        "from sklearn.ensemble import RandomForestRegressor\n",
        "rf = RandomForestRegressor()\n",
        "rf.fit(x_train,y_train)"
      ],
      "metadata": {
        "colab": {
          "base_uri": "https://localhost:8080/"
        },
        "id": "fp2h5EfEqOTy",
        "outputId": "a0aeb7f7-2f88-4fd4-c23c-f6f2c075c90a"
      },
      "execution_count": 34,
      "outputs": [
        {
          "output_type": "execute_result",
          "data": {
            "text/plain": [
              "RandomForestRegressor()"
            ]
          },
          "metadata": {},
          "execution_count": 34
        }
      ]
    },
    {
      "cell_type": "code",
      "source": [
        "y_pred2 = lr.predict(x_test)\n",
        "y_pred2"
      ],
      "metadata": {
        "colab": {
          "base_uri": "https://localhost:8080/"
        },
        "id": "9AkHOcQ0qh1p",
        "outputId": "bfc0ae98-d568-426d-c7c7-89f512dd679d"
      },
      "execution_count": 35,
      "outputs": [
        {
          "output_type": "execute_result",
          "data": {
            "text/plain": [
              "array([88.62730329, 86.58809299, 92.44503813, 93.80234266, 92.3236379 ,\n",
              "       90.25257534, 84.68553605, 91.29699162, 86.17996973, 94.07361195,\n",
              "       95.44092536, 85.22524853, 91.38365651, 82.85752342, 86.32974103,\n",
              "       83.49672055, 91.15456371, 85.69704596, 83.07629897, 96.09587151,\n",
              "       91.25435661, 98.51231641, 90.36540184, 99.23241428, 97.27874241,\n",
              "       88.75712341, 95.68600106, 90.68111461, 94.76862826, 90.58140849])"
            ]
          },
          "metadata": {},
          "execution_count": 35
        }
      ]
    },
    {
      "cell_type": "code",
      "source": [
        "rf.score(x_train,y_train)"
      ],
      "metadata": {
        "colab": {
          "base_uri": "https://localhost:8080/"
        },
        "id": "WxOKpmTkqo4Q",
        "outputId": "b4e1412c-0771-4ff4-e21d-7d54055a8d5a"
      },
      "execution_count": 36,
      "outputs": [
        {
          "output_type": "execute_result",
          "data": {
            "text/plain": [
              "0.9956740476349418"
            ]
          },
          "metadata": {},
          "execution_count": 36
        }
      ]
    },
    {
      "cell_type": "code",
      "source": [
        "from sklearn.metrics import r2_score\n",
        "r2_rf = r2_score(y_test, y_pred2)\n",
        "r2_rf"
      ],
      "metadata": {
        "colab": {
          "base_uri": "https://localhost:8080/"
        },
        "id": "illbv7wLseE_",
        "outputId": "11e2f03a-402e-4941-a70d-3c7dd81f6cb5"
      },
      "execution_count": 37,
      "outputs": [
        {
          "output_type": "execute_result",
          "data": {
            "text/plain": [
              "0.9846205331788059"
            ]
          },
          "metadata": {},
          "execution_count": 37
        }
      ]
    },
    {
      "cell_type": "code",
      "source": [
        "from sklearn.model_selection import KFold\n",
        "lr = LinearRegression()\n",
        "kfold_validation = KFold(10)"
      ],
      "metadata": {
        "id": "_Ci0g1fCrDNj"
      },
      "execution_count": 38,
      "outputs": []
    },
    {
      "cell_type": "code",
      "source": [
        "from sklearn.model_selection import cross_val_score\n",
        "score_lr = cross_val_score(lr,x_test,y_test,cv=kfold_validation)\n",
        "print(score_lr)\n",
        "print(np.mean(score_lr))"
      ],
      "metadata": {
        "colab": {
          "base_uri": "https://localhost:8080/"
        },
        "id": "YaZke0DvrJPY",
        "outputId": "7002b60a-4bd4-443d-ed40-600d1565540b"
      },
      "execution_count": 39,
      "outputs": [
        {
          "output_type": "stream",
          "name": "stdout",
          "text": [
            "[0.92742318 0.99035087 0.98260067 0.96129993 0.99616383 0.97548833\n",
            " 0.99804452 0.9917979  0.99772832 0.84425643]\n",
            "0.9665153991313071\n"
          ]
        }
      ]
    },
    {
      "cell_type": "code",
      "source": [
        "from sklearn.model_selection import cross_val_score\n",
        "score_rf = cross_val_score(rf,x_test,y_test,cv=kfold_validation)\n",
        "print(score_rf)\n",
        "print(np.mean(score_rf))"
      ],
      "metadata": {
        "colab": {
          "base_uri": "https://localhost:8080/"
        },
        "id": "jecuGw4nrYAd",
        "outputId": "dbf3b807-335c-4673-c757-b36202b5f0b1"
      },
      "execution_count": 40,
      "outputs": [
        {
          "output_type": "stream",
          "name": "stdout",
          "text": [
            "[0.49955625 0.65847185 0.95683135 0.92546757 0.8941167  0.50893744\n",
            " 0.89113438 0.63130301 0.82945487 0.7910258 ]\n",
            "0.7586299232332671\n"
          ]
        }
      ]
    }
  ]
}